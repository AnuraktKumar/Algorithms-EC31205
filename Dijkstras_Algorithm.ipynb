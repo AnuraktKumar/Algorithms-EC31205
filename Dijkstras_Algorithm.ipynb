{
 "cells": [
  {
   "cell_type": "markdown",
   "id": "9f0e2ead-aaa0-4b0e-80a0-6c1e73b0170b",
   "metadata": {},
   "source": [
    "### Name: Anurakt Kumar | Roll Number: 20EC30005 | Subject: Algorithms EC31205 | Assignment #2 Q1"
   ]
  },
  {
   "cell_type": "markdown",
   "id": "f5107f50-53a0-4488-87ff-06ad5835f8b7",
   "metadata": {},
   "source": [
    "<h2> Implementation of the Dijkstra's Algorithm <\\h2>"
   ]
  },
  {
   "cell_type": "code",
   "execution_count": 1,
   "id": "1e990bbd-ed25-4fbe-9819-a50de7f07356",
   "metadata": {},
   "outputs": [],
   "source": [
    "class Graph:\n",
    "    def __init__(self, numNodes):\n",
    "        self.n = numNodes\n",
    "        self.adj = [[] for _ in range(numNodes)]\n",
    "    def addEdge(self, a, b, l):\n",
    "        self.adj[a-1].append((b-1,l))\n",
    "        print(\"Added an edge from Node\", a, \"to Node\", b, \"of length:\", l)\n",
    "    def printDistAndPath(self, s, minDistances, p):\n",
    "        for i in range(len(minDistances)):\n",
    "            currNode = i\n",
    "            print(\"Distance between Node\", s+1, \"and Node\", currNode+1, \"is:\", minDistances[i], end=' | Path: ')\n",
    "            while(currNode!=s):\n",
    "                print(currNode+1, \"<-\", end=\" \")\n",
    "                currNode = p[currNode]\n",
    "            print(s+1)\n",
    "    def runDijkstra(self, s):\n",
    "        s = s-1\n",
    "        n = self.n\n",
    "        #Setting the max distance of a node from the source s to be INF\n",
    "        INF = 100000000\n",
    "        #d maintains a record of distance of all the nodes from the source s, whereas p maintains the predecessors \n",
    "        d = [INF]*self.n\n",
    "        p = [0]*self.n\n",
    "        #vstd maintains a record of which nodes have been discovered\n",
    "        vstd = [False]*self.n\n",
    "        #Setting the distance between s and s to be 0\n",
    "        d[s] = 0\n",
    "        #This for loop runs through all the nodes present in the graph\n",
    "        for i in range(n):\n",
    "            v = -1\n",
    "            #This checks whether the node has been visited or not, if not it checks for the distance between the source node 'v' and node 'j'\n",
    "            #if the distance is less, i.e., d[j] < d[v] then the algorithm sets 'v' equal to 'j' and searches for edges of \n",
    "            for j in range(n):\n",
    "                if(not vstd[j] and ((v==-1) or d[j]<d[v])):\n",
    "                    v = j\n",
    "            #If there exists no node between 's' and 'v' which further reduces the distance then the loop breaks\n",
    "            if d[v]==INF:\n",
    "                break\n",
    "            #Marking the current node as visited\n",
    "            vstd[v] = True\n",
    "            #For all the nodes reachable from 'v' the algorithm checks whether their distance from the source can be reduced by\n",
    "            #following a path that goes through 'v', if so then all the distance are updated, else the loop moves on to the next edge \n",
    "            for edge in self.adj[v]:\n",
    "                to, wt = edge[0], edge[1]\n",
    "                if(d[v]+wt<d[to]):\n",
    "                    d[to] = d[v] + wt\n",
    "                    p[to] = v\n",
    "        self.printDistAndPath(s,d,p)\n",
    "        return d"
   ]
  },
  {
   "cell_type": "markdown",
   "id": "d17da615-0017-4ede-9350-0f8c2a65bc38",
   "metadata": {},
   "source": [
    "<h3> The Graph has the following structure (figure attached below): <\\h3>"
   ]
  },
  {
   "cell_type": "markdown",
   "id": "5d878670-e14c-4f58-a96b-99b534f87955",
   "metadata": {},
   "source": [
    "<img src=\"./AssignmentGraph.png\" style=\"height: 200px;\"/>"
   ]
  },
  {
   "cell_type": "code",
   "execution_count": 2,
   "id": "371b959d-25e5-4820-b868-f33d6219ff1f",
   "metadata": {},
   "outputs": [
    {
     "name": "stdout",
     "output_type": "stream",
     "text": [
      "Added an edge from Node 1 to Node 2 of length: 2\n",
      "Added an edge from Node 1 to Node 3 of length: 4\n",
      "Added an edge from Node 2 to Node 3 of length: 1\n",
      "Added an edge from Node 2 to Node 4 of length: 7\n",
      "Added an edge from Node 3 to Node 5 of length: 3\n",
      "Added an edge from Node 4 to Node 6 of length: 1\n",
      "Added an edge from Node 5 to Node 4 of length: 2\n",
      "Added an edge from Node 5 to Node 6 of length: 5\n"
     ]
    }
   ],
   "source": [
    "assGraph = Graph(6)\n",
    "assGraph.addEdge(1, 2, 2)\n",
    "assGraph.addEdge(1, 3, 4)\n",
    "assGraph.addEdge(2, 3, 1)\n",
    "assGraph.addEdge(2, 4, 7)\n",
    "assGraph.addEdge(3, 5, 3)\n",
    "assGraph.addEdge(4, 6, 1)\n",
    "assGraph.addEdge(5, 4, 2)\n",
    "assGraph.addEdge(5, 6, 5)"
   ]
  },
  {
   "cell_type": "code",
   "execution_count": 3,
   "id": "562eabff-1ab1-45ba-871f-cbb812ffef29",
   "metadata": {},
   "outputs": [
    {
     "name": "stdout",
     "output_type": "stream",
     "text": [
      "Distance between Node 1 and Node 1 is: 0 | Path: 1\n",
      "Distance between Node 1 and Node 2 is: 2 | Path: 2 <- 1\n",
      "Distance between Node 1 and Node 3 is: 3 | Path: 3 <- 2 <- 1\n",
      "Distance between Node 1 and Node 4 is: 8 | Path: 4 <- 5 <- 3 <- 2 <- 1\n",
      "Distance between Node 1 and Node 5 is: 6 | Path: 5 <- 3 <- 2 <- 1\n",
      "Distance between Node 1 and Node 6 is: 9 | Path: 6 <- 4 <- 5 <- 3 <- 2 <- 1\n"
     ]
    }
   ],
   "source": [
    "s = 1 #Starting vertex, i.e., Node #1\n",
    "minDistances = assGraph.runDijkstra(s)"
   ]
  }
 ],
 "metadata": {
  "kernelspec": {
   "display_name": "Python 3",
   "language": "python",
   "name": "python3"
  },
  "language_info": {
   "codemirror_mode": {
    "name": "ipython",
    "version": 3
   },
   "file_extension": ".py",
   "mimetype": "text/x-python",
   "name": "python",
   "nbconvert_exporter": "python",
   "pygments_lexer": "ipython3",
   "version": "3.8.8"
  }
 },
 "nbformat": 4,
 "nbformat_minor": 5
}
