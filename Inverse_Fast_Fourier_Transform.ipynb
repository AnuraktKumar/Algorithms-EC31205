{
 "cells": [
  {
   "cell_type": "markdown",
   "id": "657fdda0-68ce-452e-892f-e143dbb8bc64",
   "metadata": {},
   "source": [
    "<h1> Name: Anurakt Kumar | Roll Number: 20EC30005 | Course: EC31205 </h1>"
   ]
  },
  {
   "cell_type": "markdown",
   "id": "10a2b9a2-759b-419c-9ce8-0b433f876ccd",
   "metadata": {},
   "source": [
    "<h3> Naive Polynomial Multiplication: <\\h3>"
   ]
  },
  {
   "cell_type": "markdown",
   "id": "70f131c4-03dc-4914-b189-4733a51d99f6",
   "metadata": {},
   "source": [
    "<h5>$A(x) = 3x^3 + 2x + 1$ and $B(x) = 7x^4 + 5$<\\h5>"
   ]
  },
  {
   "cell_type": "code",
   "execution_count": 323,
   "id": "c2bf4279-9c65-4264-93e8-08216d468233",
   "metadata": {},
   "outputs": [
    {
     "name": "stdout",
     "output_type": "stream",
     "text": [
      "C(x): 21x^7+14x^5+7x^4+15x^3+10x^1+5\n"
     ]
    }
   ],
   "source": [
    "#Naive polynomial multiplication in O(n^2)\n",
    "def naive_polynomial_multiplication(A, B, m, n):\n",
    "    final_coeff = [0]*(m+n-1)\n",
    "    for i in range(n):\n",
    "        for j in range(m):\n",
    "            final_coeff[i+j] +=  A[i]*B[j]\n",
    "    return final_coeff\n",
    "\n",
    "#Printing the polynomial\n",
    "def print_polynomial(coeff_lst, n):\n",
    "    print(\"C(x): \",end='')\n",
    "    for i in range(n-1,0,-1):\n",
    "        if(coeff_lst[n-i-1]==0): continue\n",
    "        print(f\"{coeff_lst[n-i-1]}x^{i}+\",end='')\n",
    "    print(coeff_lst[n-1])\n",
    "#Testing Code\n",
    "print_polynomial(naive_polynomial_multiplication([0,3,0,2,1],[7,0,0,0,5],5,5),9)"
   ]
  },
  {
   "cell_type": "markdown",
   "id": "fbc463d9-aa93-4af9-abb8-0d58378719c5",
   "metadata": {},
   "source": [
    "<h3> Discrete Fourier Transform using FFT Algorithm <\\h3>"
   ]
  },
  {
   "cell_type": "code",
   "execution_count": 328,
   "id": "c8d9f8b6-8611-4edd-be34-677f97a6cde3",
   "metadata": {},
   "outputs": [],
   "source": [
    "def FFT(x):\n",
    "    x = np.asarray(x, dtype=complex)\n",
    "    N = x.shape[0]\n",
    "\n",
    "    if N % 2 > 0:\n",
    "        raise ValueError(\"size of x must be a power of 2\")\n",
    "    elif N <= 2:  # this cutoff should be optimized\n",
    "        return np.dot(np.asarray([[1,1],[1,-1]], dtype = complex),x)\n",
    "    else:\n",
    "        X_even = FFT(x[::2])\n",
    "        X_odd = FFT(x[1::2])\n",
    "        factor = np.exp(-2j * np.pi * np.arange(N) / N)\n",
    "    return np.concatenate([X_even + factor[:N // 2] * X_odd,X_even + factor[N // 2:] * X_odd])"
   ]
  },
  {
   "cell_type": "markdown",
   "id": "2142308e-5c20-4f57-baf2-e753fee1c77c",
   "metadata": {},
   "source": [
    "<h3> Inverse Fourier Transform Algorithm:<\\h3>"
   ]
  },
  {
   "cell_type": "markdown",
   "id": "6eafda2b-13af-4517-a584-73a42b7549db",
   "metadata": {},
   "source": [
    "<p>Using the property of Discrete Fourier Transform and Inverse Discrete Fourier Transform<\\p>"
   ]
  },
  {
   "cell_type": "markdown",
   "id": "78c762d8-8695-46b6-8890-0840a592ffe3",
   "metadata": {},
   "source": [
    "$x_{n} = \\frac{1}{N}(DFT(X^{*}))^{*}$"
   ]
  },
  {
   "cell_type": "code",
   "execution_count": 329,
   "id": "619a86ad-9475-4fa7-b6f7-8dcfb938a108",
   "metadata": {},
   "outputs": [],
   "source": [
    "def IFFT(x):\n",
    "    x = np.asarray(x, dtype=complex) \n",
    "    N = x.shape[0]\n",
    "    return 1/N*np.conj(FFT(np.conj(x)))"
   ]
  },
  {
   "cell_type": "code",
   "execution_count": 330,
   "id": "70f28215-7e91-47e9-91e8-4c0fa24a3c1f",
   "metadata": {},
   "outputs": [
    {
     "data": {
      "text/plain": [
       "True"
      ]
     },
     "execution_count": 330,
     "metadata": {},
     "output_type": "execute_result"
    }
   ],
   "source": [
    "x = np.random.random(2048)\n",
    "np.allclose(IFFT(x), np.fft.ifft(x))"
   ]
  },
  {
   "cell_type": "markdown",
   "id": "334aeee9-a282-4b28-85f2-8c17d0bb5750",
   "metadata": {},
   "source": [
    "<h3> Using FFT for polynomial multiplication: </h3>"
   ]
  },
  {
   "cell_type": "markdown",
   "id": "43230134-7d12-4cb2-947e-aa026ba93b05",
   "metadata": {},
   "source": [
    "<p>\n",
    "Polynomial multiplication is a convolution operation. Let the coefficient vector for $A(x)$ be $A$, the coefficient vector for B(x) be $B$\n",
    "and the coefficient vector for $C(x)$ be $C$ where $C(x) = A(x).B(x)$\n",
    "<\\p>"
   ]
  },
  {
   "cell_type": "markdown",
   "id": "a4be6855-3804-4d2b-a36e-ae2f01cfd731",
   "metadata": {},
   "source": [
    "<p>\n",
    "The value of the $C$ vector is given by:\n",
    "<\\p>"
   ]
  },
  {
   "cell_type": "markdown",
   "id": "82ea46fa-b1fd-4b20-9ab0-baee8507c358",
   "metadata": {},
   "source": [
    "<p>\n",
    "C = IFFT(DFT($A$).DFT($B$)) since multiplication in frequency domain is convolution in the time domain\n",
    "<\\p>"
   ]
  },
  {
   "cell_type": "markdown",
   "id": "741ff79b-b7a7-4fe1-9136-ab8c119a3b43",
   "metadata": {},
   "source": [
    "<h5>$A(x) = 3x^3 + 2x + 1$ and $B(x) = 7x^4 + 5$<\\h5>"
   ]
  },
  {
   "cell_type": "markdown",
   "id": "1874ba2a-a542-4053-85b5-d37b214ab1fa",
   "metadata": {},
   "source": [
    "<h3> Polynomial Multiplication Using FFT <\\h3>"
   ]
  },
  {
   "cell_type": "code",
   "execution_count": 331,
   "id": "204a538b-afb5-44aa-b220-4a9e217b0483",
   "metadata": {},
   "outputs": [],
   "source": [
    "def polyMult(a, b):\n",
    "    \n",
    "    c = FFT(a)\n",
    "    d = FFT(b)\n",
    "    \n",
    "    result = c*d\n",
    "    \n",
    "    return np.round(IFFT(result).real,2)"
   ]
  },
  {
   "cell_type": "code",
   "execution_count": 335,
   "id": "162be186-5e10-47d3-8a94-9960468f101d",
   "metadata": {},
   "outputs": [
    {
     "name": "stdout",
     "output_type": "stream",
     "text": [
      "C(x): 5.0x^7+10.0x^6+15.0x^4+7.0x^3+14.0x^2+21.0\n",
      "None\n"
     ]
    }
   ],
   "source": [
    "a = np.array([1, 2, 0, 3, 0, 0, 0, 0])\n",
    "b = np.array([5, 0, 0, 0, 7, 0, 0, 0])\n",
    "\n",
    "print(print_polynomial(polyMult(a,b),len(a)))"
   ]
  },
  {
   "cell_type": "code",
   "execution_count": null,
   "id": "e1ce201d-2fef-4620-983e-b22fbac0f977",
   "metadata": {},
   "outputs": [],
   "source": []
  }
 ],
 "metadata": {
  "kernelspec": {
   "display_name": "Python 3",
   "language": "python",
   "name": "python3"
  },
  "language_info": {
   "codemirror_mode": {
    "name": "ipython",
    "version": 3
   },
   "file_extension": ".py",
   "mimetype": "text/x-python",
   "name": "python",
   "nbconvert_exporter": "python",
   "pygments_lexer": "ipython3",
   "version": "3.8.8"
  }
 },
 "nbformat": 4,
 "nbformat_minor": 5
}
